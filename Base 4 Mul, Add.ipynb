{
 "cells": [
  {
   "cell_type": "code",
   "execution_count": 11,
   "id": "f6a400f7",
   "metadata": {},
   "outputs": [
    {
     "name": "stdout",
     "output_type": "stream",
     "text": [
      "0000000000000000000000000000000000000000000000000000000000000000000000000000000000000000000000021030\n"
     ]
    }
   ],
   "source": [
    "lendata, digits = 4, 100\n",
    "\n",
    "#for i in range(lendata**digits):\n",
    "\n",
    "decimalNum = 28*21\n",
    "\n",
    "nums = [str((decimalNum//lendata**d)%lendata) for d in range(digits)[::-1]]\n",
    "base4 = ''.join(nums)\n",
    "print(base4)"
   ]
  },
  {
   "cell_type": "code",
   "execution_count": 12,
   "id": "b83c00e4",
   "metadata": {},
   "outputs": [
    {
     "data": {
      "text/plain": [
       "14430"
      ]
     },
     "execution_count": 12,
     "metadata": {},
     "output_type": "execute_result"
    }
   ],
   "source": [
    "130*111"
   ]
  },
  {
   "cell_type": "code",
   "execution_count": 1,
   "id": "f3c72e79",
   "metadata": {},
   "outputs": [
    {
     "data": {
      "text/plain": [
       "'-0b111'"
      ]
     },
     "execution_count": 1,
     "metadata": {},
     "output_type": "execute_result"
    }
   ],
   "source": [
    "bin(-7)"
   ]
  }
 ],
 "metadata": {
  "kernelspec": {
   "display_name": "Python 3 (ipykernel)",
   "language": "python",
   "name": "python3"
  },
  "language_info": {
   "codemirror_mode": {
    "name": "ipython",
    "version": 3
   },
   "file_extension": ".py",
   "mimetype": "text/x-python",
   "name": "python",
   "nbconvert_exporter": "python",
   "pygments_lexer": "ipython3",
   "version": "3.11.4"
  }
 },
 "nbformat": 4,
 "nbformat_minor": 5
}
