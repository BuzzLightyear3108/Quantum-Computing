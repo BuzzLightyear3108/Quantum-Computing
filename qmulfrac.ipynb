{
 "cells": [
  {
   "cell_type": "code",
   "execution_count": 1,
   "id": "f6a400f7",
   "metadata": {},
   "outputs": [],
   "source": [
    "from qmul import *"
   ]
  },
  {
   "cell_type": "markdown",
   "id": "738bc0db",
   "metadata": {},
   "source": [
    "# Circuit 1 (Numerator Circuit)"
   ]
  },
  {
   "cell_type": "code",
   "execution_count": 2,
   "id": "7fb89fbb",
   "metadata": {},
   "outputs": [
    {
     "name": "stdout",
     "output_type": "stream",
     "text": [
      "Expression: -7*-6 = 42\n"
     ]
    }
   ],
   "source": [
    "# Set the Inputs by using setInputs()\n",
    "A, B = -7, -6\n",
    "setInputs(A, B)\n",
    "\n",
    "# Execute the Circuit by using execCirc()\n",
    "print(f'Expression: {A}*{B} = {execCirc()}')"
   ]
  },
  {
   "cell_type": "markdown",
   "id": "195bff49",
   "metadata": {},
   "source": [
    "# Circuit 2 (Denominator Circuit)"
   ]
  },
  {
   "cell_type": "code",
   "execution_count": 3,
   "id": "0c81e3b5",
   "metadata": {},
   "outputs": [
    {
     "name": "stdout",
     "output_type": "stream",
     "text": [
      "Expression: -4*-5 = 20\n"
     ]
    }
   ],
   "source": [
    "# Set the Inputs by using setInputs()\n",
    "A, B = -4, -5\n",
    "setInputs(A, B)\n",
    "\n",
    "# Execute the Circuit by using execCirc()\n",
    "print(f'Expression: {A}*{B} = {execCirc()}')"
   ]
  }
 ],
 "metadata": {
  "kernelspec": {
   "display_name": "Python 3 (ipykernel)",
   "language": "python",
   "name": "python3"
  },
  "language_info": {
   "codemirror_mode": {
    "name": "ipython",
    "version": 3
   },
   "file_extension": ".py",
   "mimetype": "text/x-python",
   "name": "python",
   "nbconvert_exporter": "python",
   "pygments_lexer": "ipython3",
   "version": "3.11.4"
  }
 },
 "nbformat": 4,
 "nbformat_minor": 5
}
