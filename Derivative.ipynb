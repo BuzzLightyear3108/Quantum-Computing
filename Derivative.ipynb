{
 "cells": [
  {
   "cell_type": "code",
   "execution_count": 11,
   "id": "27cab62c",
   "metadata": {},
   "outputs": [],
   "source": [
    "from qmul import *"
   ]
  },
  {
   "cell_type": "code",
   "execution_count": 12,
   "id": "ab144212",
   "metadata": {},
   "outputs": [],
   "source": [
    "x = sympy.Symbol('x')"
   ]
  },
  {
   "cell_type": "code",
   "execution_count": 13,
   "id": "5ff47be7",
   "metadata": {},
   "outputs": [
    {
     "data": {
      "text/latex": [
       "$\\displaystyle 7 x^{3}$"
      ],
      "text/plain": [
       "7*x**3"
      ]
     },
     "execution_count": 13,
     "metadata": {},
     "output_type": "execute_result"
    }
   ],
   "source": [
    "eq = (7*x**3)\n",
    "eq"
   ]
  },
  {
   "cell_type": "code",
   "execution_count": 14,
   "id": "61126406",
   "metadata": {},
   "outputs": [],
   "source": [
    "coeffExp = eq.as_coeff_exponent(x)\n",
    "coeffExpFrac = [Fraction(str(eqNum)).as_integer_ratio() for eqNum in coeffExp]"
   ]
  },
  {
   "cell_type": "code",
   "execution_count": 15,
   "id": "5094f32d",
   "metadata": {},
   "outputs": [
    {
     "name": "stdout",
     "output_type": "stream",
     "text": [
      "Expression: 7*3 = 21\n",
      "Expression: 1*1 = 1\n"
     ]
    }
   ],
   "source": [
    "factors = np.transpose(coeffExpFrac)\n",
    "\n",
    "for A, B in factors:\n",
    "    # Set the Inputs by using setInputs()\n",
    "    setInputs(A, B)\n",
    "    \n",
    "    # Execute the Circuit by using execCirc()\n",
    "    print(f'Expression: {A}*{B} = {execCirc()}')"
   ]
  }
 ],
 "metadata": {
  "kernelspec": {
   "display_name": "Python 3 (ipykernel)",
   "language": "python",
   "name": "python3"
  },
  "language_info": {
   "codemirror_mode": {
    "name": "ipython",
    "version": 3
   },
   "file_extension": ".py",
   "mimetype": "text/x-python",
   "name": "python",
   "nbconvert_exporter": "python",
   "pygments_lexer": "ipython3",
   "version": "3.11.4"
  }
 },
 "nbformat": 4,
 "nbformat_minor": 5
}
