{
 "cells": [
  {
   "cell_type": "code",
   "execution_count": 71,
   "id": "928cb004",
   "metadata": {},
   "outputs": [],
   "source": [
    "from qiskit import QuantumCircuit, Aer, execute, transpile, execute, IBMQ\n",
    "from qiskit_aer import AerSimulator\n",
    "\n",
    "from qiskit.tools.monitor import job_monitor\n",
    "from qiskit.circuit.library import WeightedAdder\n",
    "\n",
    "from qiskit.circuit import Instruction, CircuitInstruction, Qubit, QuantumRegister, Clbit, ClassicalRegister\n",
    "from qiskit.circuit.library.standard_gates import IGate, XGate, CXGate, CCXGate, C3XGate, C4XGate, MCXGate, \\\n",
    "                                                  RXGate, RYGate, RZGate, HGate\n",
    "from qiskit.exceptions import QiskitError\n",
    "\n",
    "import matplotlib.pyplot as plt\n",
    "%matplotlib inline\n",
    "from qiskit.visualization import plot_histogram\n",
    "\n",
    "import os\n",
    "import sys\n",
    "import math as m\n",
    "import numpy as np\n",
    "import pandas as pd\n",
    "import sympy\n",
    "\n",
    "from _functools import *\n",
    "from traceback import format_exc\n",
    "\n",
    "from qmul import setInputs, initGates"
   ]
  },
  {
   "cell_type": "code",
   "execution_count": 72,
   "id": "27d5d808",
   "metadata": {},
   "outputs": [],
   "source": [
    "backend = AerSimulator(method='matrix_product_state')"
   ]
  },
  {
   "cell_type": "code",
   "execution_count": 73,
   "id": "aa2b1410",
   "metadata": {},
   "outputs": [],
   "source": [
    "nInputs = 3\n",
    "nOutputs = 2\n",
    "\n",
    "nQubits = 11\n",
    "\n",
    "q = QuantumRegister(nQubits, 'q')\n",
    "c = ClassicalRegister(nOutputs, 'c')\n",
    "\n",
    "sCirc = QuantumCircuit(q, c)"
   ]
  },
  {
   "cell_type": "code",
   "execution_count": 74,
   "id": "8a6d7403",
   "metadata": {},
   "outputs": [],
   "source": [
    "initGates(circuit=sCirc, qreq=q, nInputs=nInputs, gateName='id')"
   ]
  },
  {
   "cell_type": "markdown",
   "id": "050abdad",
   "metadata": {},
   "source": [
    "# D Part"
   ]
  },
  {
   "cell_type": "code",
   "execution_count": 75,
   "id": "8663050b",
   "metadata": {},
   "outputs": [
    {
     "data": {
      "text/plain": [
       "<qiskit.circuit.instructionset.InstructionSet at 0x277b99873d0>"
      ]
     },
     "execution_count": 75,
     "metadata": {},
     "output_type": "execute_result"
    }
   ],
   "source": [
    "sCirc.cx(0, 5)\n",
    "sCirc.cx(1, 5)\n",
    "\n",
    "sCirc.cx(5, 6)\n",
    "sCirc.cx(2, 6)"
   ]
  },
  {
   "cell_type": "code",
   "execution_count": null,
   "id": "b2268948",
   "metadata": {
    "scrolled": true
   },
   "outputs": [],
   "source": []
  },
  {
   "cell_type": "markdown",
   "id": "8afc5f34",
   "metadata": {},
   "source": [
    "# Bout Part"
   ]
  },
  {
   "cell_type": "code",
   "execution_count": 76,
   "id": "de8a4d6d",
   "metadata": {},
   "outputs": [
    {
     "data": {
      "text/plain": [
       "<qiskit.circuit.instructionset.InstructionSet at 0x277b9985090>"
      ]
     },
     "execution_count": 76,
     "metadata": {},
     "output_type": "execute_result"
    }
   ],
   "source": [
    "sCirc.ccx(1, 2, 7)\n",
    "sCirc.x(7)\n",
    "\n",
    "sCirc.x(1)\n",
    "sCirc.x(2)\n",
    "\n",
    "sCirc.ccx(1, 2, 8)\n",
    "sCirc.x(8)\n",
    "\n",
    "sCirc.x(0)\n",
    "sCirc.ccx(0, 8, 9)\n",
    "sCirc.x(9)\n",
    "\n",
    "sCirc.ccx(7, 9, 10)\n",
    "sCirc.x(10)"
   ]
  },
  {
   "cell_type": "raw",
   "id": "066ee8ab",
   "metadata": {},
   "source": [
    "sCirc.x(6)\n",
    "sCirc.ccx(2, 6, 8)\n",
    "\n",
    "sCirc.x(0)\n",
    "sCirc.ccx(0, 1, 9)\n",
    "\n",
    "sCirc.x(8)\n",
    "sCirc.x(9)\n",
    "\n",
    "sCirc.ccx(8, 9, 7)\n",
    "sCirc.x(7)"
   ]
  },
  {
   "cell_type": "code",
   "execution_count": 77,
   "id": "81d75c4c",
   "metadata": {},
   "outputs": [
    {
     "data": {
      "text/plain": [
       "<qiskit.circuit.instructionset.InstructionSet at 0x277b9987490>"
      ]
     },
     "execution_count": 77,
     "metadata": {},
     "output_type": "execute_result"
    }
   ],
   "source": [
    "sCirc.measure(6, 0)\n",
    "sCirc.measure(10, 1)"
   ]
  },
  {
   "cell_type": "code",
   "execution_count": 78,
   "id": "dbb6149c",
   "metadata": {},
   "outputs": [
    {
     "name": "stdout",
     "output_type": "stream",
     "text": [
      "      ┌────┐     ┌───┐                                                       »\n",
      " q_0: ┤ id ├──■──┤ X ├─────────────────────────────────────■─────────────────»\n",
      "      ├────┤  │  └───┘               ┌───┐                 │                 »\n",
      " q_1: ┤ id ├──┼────■──────────────■──┤ X ├───────■─────────┼─────────────────»\n",
      "      ├────┤  │    │              │  ├───┤       │         │                 »\n",
      " q_2: ┤ id ├──┼────┼─────────■────■──┤ X ├───────■─────────┼─────────────────»\n",
      "      └────┘  │    │         │    │  └───┘       │         │                 »\n",
      " q_3: ────────┼────┼─────────┼────┼──────────────┼─────────┼─────────────────»\n",
      "              │    │         │    │              │         │                 »\n",
      " q_4: ────────┼────┼─────────┼────┼──────────────┼─────────┼─────────────────»\n",
      "            ┌─┴─┐┌─┴─┐       │    │              │         │                 »\n",
      " q_5: ──────┤ X ├┤ X ├──■────┼────┼──────────────┼─────────┼─────────────────»\n",
      "            └───┘└───┘┌─┴─┐┌─┴─┐  │   ┌─┐        │         │                 »\n",
      " q_6: ────────────────┤ X ├┤ X ├──┼───┤M├────────┼─────────┼─────────────────»\n",
      "                      └───┘└───┘┌─┴─┐ └╥┘ ┌───┐  │         │                 »\n",
      " q_7: ──────────────────────────┤ X ├──╫──┤ X ├──┼─────────┼─────────■───────»\n",
      "                                └───┘  ║  └───┘┌─┴─┐┌───┐  │         │       »\n",
      " q_8: ─────────────────────────────────╫───────┤ X ├┤ X ├──■─────────┼───────»\n",
      "                                       ║       └───┘└───┘┌─┴─┐┌───┐  │       »\n",
      " q_9: ─────────────────────────────────╫─────────────────┤ X ├┤ X ├──■───────»\n",
      "                                       ║                 └───┘└───┘┌─┴─┐┌───┐»\n",
      "q_10: ─────────────────────────────────╫───────────────────────────┤ X ├┤ X ├»\n",
      "                                       ║                           └───┘└───┘»\n",
      " c: 2/═════════════════════════════════╩═════════════════════════════════════»\n",
      "                                       0                                     »\n",
      "«         \n",
      "« q_0: ───\n",
      "«         \n",
      "« q_1: ───\n",
      "«         \n",
      "« q_2: ───\n",
      "«         \n",
      "« q_3: ───\n",
      "«         \n",
      "« q_4: ───\n",
      "«         \n",
      "« q_5: ───\n",
      "«         \n",
      "« q_6: ───\n",
      "«         \n",
      "« q_7: ───\n",
      "«         \n",
      "« q_8: ───\n",
      "«         \n",
      "« q_9: ───\n",
      "«      ┌─┐\n",
      "«q_10: ┤M├\n",
      "«      └╥┘\n",
      "« c: 2/═╩═\n",
      "«       1 \n"
     ]
    }
   ],
   "source": [
    "print(sCirc.draw())"
   ]
  },
  {
   "cell_type": "code",
   "execution_count": 79,
   "id": "df766571",
   "metadata": {},
   "outputs": [
    {
     "name": "stdout",
     "output_type": "stream",
     "text": [
      "0 0 0 00\n",
      "0 0 1 11\n",
      "0 1 0 11\n",
      "0 1 1 01\n",
      "1 0 0 10\n",
      "1 0 1 00\n",
      "1 1 0 00\n",
      "1 1 1 11\n"
     ]
    }
   ],
   "source": [
    "gateNames = ['id', 'x']\n",
    "\n",
    "for i1 in range(2):\n",
    "    sCirc.data[0].operation.name = gateNames[i1]\n",
    "    \n",
    "    for i2 in range(2):\n",
    "        sCirc.data[1].operation.name = gateNames[i2]\n",
    "        \n",
    "        for i3 in range(2):\n",
    "            sCirc.data[2].operation.name = gateNames[i3]\n",
    "\n",
    "            job = execute(sCirc, backend, shots=2000)\n",
    "            result = job.result()\n",
    "            counts = result.get_counts()\n",
    "\n",
    "            #print(i1, i2, i3, counts)\n",
    "\n",
    "            for count in list(counts):\n",
    "                print(i1, i2, i3, count[::-1])\n",
    "            #print(sCirc.draw())"
   ]
  },
  {
   "cell_type": "code",
   "execution_count": null,
   "id": "4b0cfb44",
   "metadata": {},
   "outputs": [],
   "source": []
  }
 ],
 "metadata": {
  "kernelspec": {
   "display_name": "Python 3 (ipykernel)",
   "language": "python",
   "name": "python3"
  },
  "language_info": {
   "codemirror_mode": {
    "name": "ipython",
    "version": 3
   },
   "file_extension": ".py",
   "mimetype": "text/x-python",
   "name": "python",
   "nbconvert_exporter": "python",
   "pygments_lexer": "ipython3",
   "version": "3.11.4"
  }
 },
 "nbformat": 4,
 "nbformat_minor": 5
}
