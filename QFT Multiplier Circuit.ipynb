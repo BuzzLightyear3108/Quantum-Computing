{
 "cells": [
  {
   "cell_type": "code",
   "execution_count": 95,
   "id": "c5c6b03d",
   "metadata": {},
   "outputs": [],
   "source": [
    "from qiskit import QuantumCircuit, Aer, execute, transpile, execute, IBMQ\n",
    "from qiskit_aer import AerSimulator\n",
    "\n",
    "from qiskit.tools.monitor import job_monitor\n",
    "from qiskit.circuit.library import RGQFTMultiplier\n",
    "\n",
    "from qiskit.circuit import Instruction, CircuitInstruction, Qubit, QuantumRegister, Clbit, ClassicalRegister\n",
    "from qiskit.circuit.library.standard_gates import IGate, XGate, CXGate, CCXGate, C3XGate, C4XGate, MCXGate\n",
    "from qiskit.exceptions import QiskitError\n",
    "\n",
    "import matplotlib.pyplot as plt\n",
    "%matplotlib inline\n",
    "from qiskit.visualization import plot_histogram\n",
    "\n",
    "import os\n",
    "import sys\n",
    "import math as m\n",
    "import numpy as np\n",
    "import pandas as pd\n",
    "import sympy\n",
    "\n",
    "from _functools import *\n",
    "from traceback import format_exc"
   ]
  },
  {
   "cell_type": "code",
   "execution_count": 96,
   "id": "6e827cce",
   "metadata": {},
   "outputs": [],
   "source": [
    "backend = AerSimulator(method='matrix_product_state')"
   ]
  },
  {
   "cell_type": "markdown",
   "id": "10068589",
   "metadata": {},
   "source": [
    "Inspired by: https://quantumcomputinguk.org/tutorials/multiplication-on-quantum-computers-with-qiskit\n",
    "\n",
    "# Step 1: Initialize the registers and quantum circuit\n",
    "The first step is to initialise the registers and quantum circuit. Our circuit will consist of two registers. A quantum register that holds our qubits and a classical register that holds the bits used to measure the output qubits. \n",
    "\n",
    "For our quantum register we will have 8 qubits:\n",
    "\n",
    "Qubits 0 and 1 hold Operand A which we will use to store 2. \n",
    "\n",
    "Qubits 2 and 3 hold Operand B which we will use to store 3.\n",
    "\n",
    "Qubits 4 to 7 hold the output qubits that will hold the result. \n",
    "\n",
    "The classical register will hold the result when we measure the output qubits and as such will have 4 bits. \n",
    "\n",
    "In Qiskit the registers can circuit can be initialized using the following code:"
   ]
  },
  {
   "cell_type": "code",
   "execution_count": 97,
   "id": "8055504d",
   "metadata": {},
   "outputs": [],
   "source": [
    "inputDigits = 3"
   ]
  },
  {
   "cell_type": "code",
   "execution_count": 98,
   "id": "ab0ae6fb",
   "metadata": {},
   "outputs": [],
   "source": [
    "nInputs = inputDigits + inputDigits\n",
    "nOutput = 2*inputDigits\n",
    "\n",
    "nQubits = nInputs+nOutput\n",
    "\n",
    "q = QuantumRegister(nQubits,'q')\n",
    "c = ClassicalRegister(nOutput,'c')\n",
    "\n",
    "mCirc = QuantumCircuit(q, c)"
   ]
  },
  {
   "cell_type": "code",
   "execution_count": 99,
   "id": "4d70a86c",
   "metadata": {},
   "outputs": [],
   "source": [
    "mCirc.data = [CircuitInstruction(operation=Instruction(name='id', num_qubits=1, num_clbits=0, params=[]),\n",
    "                                 qubits=(Qubit(q, inputIndex),),\n",
    "                                 clbits=()) for inputIndex in range(nInputs)]"
   ]
  },
  {
   "cell_type": "code",
   "execution_count": 100,
   "id": "5d7e23ef",
   "metadata": {},
   "outputs": [
    {
     "data": {
      "text/plain": [
       "[CircuitInstruction(operation=Instruction(name='id', num_qubits=1, num_clbits=0, params=[]), qubits=(Qubit(QuantumRegister(12, 'q'), 0),), clbits=()),\n",
       " CircuitInstruction(operation=Instruction(name='id', num_qubits=1, num_clbits=0, params=[]), qubits=(Qubit(QuantumRegister(12, 'q'), 1),), clbits=()),\n",
       " CircuitInstruction(operation=Instruction(name='id', num_qubits=1, num_clbits=0, params=[]), qubits=(Qubit(QuantumRegister(12, 'q'), 2),), clbits=()),\n",
       " CircuitInstruction(operation=Instruction(name='id', num_qubits=1, num_clbits=0, params=[]), qubits=(Qubit(QuantumRegister(12, 'q'), 3),), clbits=()),\n",
       " CircuitInstruction(operation=Instruction(name='id', num_qubits=1, num_clbits=0, params=[]), qubits=(Qubit(QuantumRegister(12, 'q'), 4),), clbits=()),\n",
       " CircuitInstruction(operation=Instruction(name='id', num_qubits=1, num_clbits=0, params=[]), qubits=(Qubit(QuantumRegister(12, 'q'), 5),), clbits=())]"
      ]
     },
     "execution_count": 100,
     "metadata": {},
     "output_type": "execute_result"
    }
   ],
   "source": [
    "list(mCirc.data)"
   ]
  },
  {
   "cell_type": "markdown",
   "id": "261039bd",
   "metadata": {},
   "source": [
    "# Step 2: Encode the values on to the Operands\n",
    "The next step is to encode 2 on to Operand A and 3 on to Operand B. \n",
    "\n",
    "Since 2 is ‘10’ in binary we leave qubit 0 as is so that its state is |0〉and apply a Pauli-X gate to qubit 1 so that it state flips from |0〉 to |1〉. \n",
    "\n",
    "To encode 3 on Operand B we apply Pauli-X gates to qubits 2 and 3 since 3 is ‘11’ in binary. \n",
    "\n",
    "The encodings are done with the following code: "
   ]
  },
  {
   "cell_type": "code",
   "execution_count": 101,
   "id": "654a2284",
   "metadata": {},
   "outputs": [
    {
     "name": "stdout",
     "output_type": "stream",
     "text": [
      "2 1 x\n",
      "1 1 x\n",
      "0 1 x\n",
      "5 1 x\n",
      "4 1 x\n",
      "3 0 id\n"
     ]
    }
   ],
   "source": [
    "A, B = 7, 6\n",
    "\n",
    "ABin, BBin = bin(A)[2:], bin(B)[2:]\n",
    "\n",
    "# Operand A\n",
    "for ADigit, AIndex in zip(ABin, range(len(ABin))[::-1]):\n",
    "    ABinInput = int(ADigit)\n",
    "    gateName = ['id', 'x'][ABinInput]\n",
    "    \n",
    "    mCirc.data[AIndex].operation.name = gateName\n",
    "    \n",
    "    print(AIndex, ADigit, gateName)\n",
    "\n",
    "# Operand B\n",
    "for BDigit, BIndex in zip(BBin, range(len(BBin))[::-1]):\n",
    "    BBinInput = int(BDigit)\n",
    "    gateName = ['id', 'x'][BBinInput]\n",
    "    \n",
    "    mCirc.data[BIndex+inputDigits].operation.name = gateName\n",
    "    \n",
    "    print(BIndex+inputDigits, BDigit, gateName)"
   ]
  },
  {
   "cell_type": "code",
   "execution_count": 102,
   "id": "4cfbb7dd",
   "metadata": {},
   "outputs": [
    {
     "data": {
      "text/plain": [
       "[CircuitInstruction(operation=Instruction(name='x', num_qubits=1, num_clbits=0, params=[]), qubits=(Qubit(QuantumRegister(12, 'q'), 0),), clbits=()),\n",
       " CircuitInstruction(operation=Instruction(name='x', num_qubits=1, num_clbits=0, params=[]), qubits=(Qubit(QuantumRegister(12, 'q'), 1),), clbits=()),\n",
       " CircuitInstruction(operation=Instruction(name='x', num_qubits=1, num_clbits=0, params=[]), qubits=(Qubit(QuantumRegister(12, 'q'), 2),), clbits=()),\n",
       " CircuitInstruction(operation=Instruction(name='id', num_qubits=1, num_clbits=0, params=[]), qubits=(Qubit(QuantumRegister(12, 'q'), 3),), clbits=()),\n",
       " CircuitInstruction(operation=Instruction(name='x', num_qubits=1, num_clbits=0, params=[]), qubits=(Qubit(QuantumRegister(12, 'q'), 4),), clbits=()),\n",
       " CircuitInstruction(operation=Instruction(name='x', num_qubits=1, num_clbits=0, params=[]), qubits=(Qubit(QuantumRegister(12, 'q'), 5),), clbits=())]"
      ]
     },
     "execution_count": 102,
     "metadata": {},
     "output_type": "execute_result"
    }
   ],
   "source": [
    "list(mCirc.data)"
   ]
  },
  {
   "cell_type": "markdown",
   "id": "e3cf0704",
   "metadata": {},
   "source": [
    "# Step 3: Create the QFT multiplication circuit\n",
    "The next step is to create the QFT multiplication circuit. Thankfully this is incredibly simple as the circuit has a dedicated class in Qiskit and as such can be added using 2 lines of code: "
   ]
  },
  {
   "cell_type": "code",
   "execution_count": 103,
   "id": "3460328e",
   "metadata": {},
   "outputs": [],
   "source": [
    "mCirc1 = RGQFTMultiplier(num_state_qubits=inputDigits,\n",
    "                         num_result_qubits=inputDigits*2)\n",
    "\n",
    "mCirc = mCirc.compose(mCirc1)"
   ]
  },
  {
   "cell_type": "markdown",
   "id": "ef0f343e",
   "metadata": {},
   "source": [
    "The first line creates the multiplier circuit using the RGQFTMultiplier() function which we pass the following arguments in to:\n",
    "\n",
    "num_state_qubits: The number of bits for each operand. Since we are doing 2*3 we only need 2 bits for each \n",
    "\n",
    "num_result_qubits: This denotes the number of output qubits. For this we set it to 4 to prevent integer overflow. \n",
    "\n",
    "The second line simply add the multiplier circuit (which we have denoted as circuit1) to our main circuit using the circuit.compose() method."
   ]
  },
  {
   "cell_type": "markdown",
   "id": "0d032c3c",
   "metadata": {},
   "source": [
    "# Step 4: Measure the output qubits\n",
    "The next part is to measure the output qubits using the following code:"
   ]
  },
  {
   "cell_type": "code",
   "execution_count": 104,
   "id": "7a79630a",
   "metadata": {},
   "outputs": [
    {
     "data": {
      "text/plain": [
       "<qiskit.circuit.instructionset.InstructionSet at 0x200e93014b0>"
      ]
     },
     "execution_count": 104,
     "metadata": {},
     "output_type": "execute_result"
    }
   ],
   "source": [
    "rangeLimit = 2**inputDigits\n",
    "\n",
    "# Qubit Range\n",
    "QRange = range(nInputs, nQubits)\n",
    "\n",
    "# Classical Bit Range\n",
    "CRange = range(0, nOutput)\n",
    "\n",
    "mCirc.measure(QRange, CRange)"
   ]
  },
  {
   "cell_type": "markdown",
   "id": "dda97b8e",
   "metadata": {},
   "source": [
    "# Step 5: Send the circuit to a backend device and get the results back\n",
    "The final step is to send the circuit off to be run on a backend device and get the results and print them. \n",
    "\n",
    "Note: Since this is only a tutorial we will be using a backend quantum simulator since it is much quicker. However you can set the backend device to be any real quantum device you have access to."
   ]
  },
  {
   "cell_type": "code",
   "execution_count": 105,
   "id": "04090cb7",
   "metadata": {},
   "outputs": [
    {
     "name": "stdout",
     "output_type": "stream",
     "text": [
      "7*6\n",
      "---\n",
      "{'101010': 2000}\n",
      "42\n"
     ]
    }
   ],
   "source": [
    "job = execute(mCirc, backend, shots=2000)\n",
    "result = job.result()\n",
    "counts = result.get_counts()\n",
    "print(f'{A}*{B}')\n",
    "print('---')\n",
    "print(counts)\n",
    "print(int(list(counts)[0], 2))"
   ]
  },
  {
   "cell_type": "code",
   "execution_count": 106,
   "id": "b33f5244",
   "metadata": {},
   "outputs": [
    {
     "data": {
      "image/png": "[encoded data removed]",
      "text/plain": [
       "<Figure size 974.414x1120.39 with 1 Axes>"
      ]
     },
     "execution_count": 106,
     "metadata": {},
     "output_type": "execute_result"
    }
   ],
   "source": [
    "mCirc.draw(output='mpl')"
   ]
  },
  {
   "cell_type": "code",
   "execution_count": null,
   "id": "45804fe2",
   "metadata": {},
   "outputs": [],
   "source": []
  }
 ],
 "metadata": {
  "kernelspec": {
   "display_name": "Python 3 (ipykernel)",
   "language": "python",
   "name": "python3"
  },
  "language_info": {
   "codemirror_mode": {
    "name": "ipython",
    "version": 3
   },
   "file_extension": ".py",
   "mimetype": "text/x-python",
   "name": "python",
   "nbconvert_exporter": "python",
   "pygments_lexer": "ipython3",
   "version": "3.11.4"
  }
 },
 "nbformat": 4,
 "nbformat_minor": 5
}
