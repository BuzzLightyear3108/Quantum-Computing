{
 "cells": [
  {
   "cell_type": "code",
   "execution_count": 91,
   "id": "928cb004",
   "metadata": {},
   "outputs": [],
   "source": [
    "from qiskit import QuantumCircuit, Aer, execute, transpile, execute, IBMQ\n",
    "from qiskit_aer import AerSimulator\n",
    "\n",
    "from qiskit.tools.monitor import job_monitor\n",
    "from qiskit.circuit.library import WeightedAdder\n",
    "\n",
    "from qiskit.circuit import Instruction, CircuitInstruction, Qubit, QuantumRegister, Clbit, ClassicalRegister\n",
    "from qiskit.circuit.library.standard_gates import IGate, XGate, CXGate, CCXGate, C3XGate, C4XGate, MCXGate, \\\n",
    "                                                  RXGate, RYGate, RZGate, HGate\n",
    "from qiskit.exceptions import QiskitError\n",
    "\n",
    "import matplotlib.pyplot as plt\n",
    "%matplotlib inline\n",
    "from qiskit.visualization import plot_histogram\n",
    "\n",
    "import os\n",
    "import sys\n",
    "import math as m\n",
    "import numpy as np\n",
    "import pandas as pd\n",
    "import sympy\n",
    "\n",
    "from _functools import *\n",
    "from traceback import format_exc\n",
    "\n",
    "from qmul import setInputs, initGates"
   ]
  },
  {
   "cell_type": "code",
   "execution_count": 92,
   "id": "27d5d808",
   "metadata": {},
   "outputs": [],
   "source": [
    "backend = AerSimulator(method='matrix_product_state')"
   ]
  },
  {
   "cell_type": "code",
   "execution_count": 93,
   "id": "aa2b1410",
   "metadata": {},
   "outputs": [],
   "source": [
    "nInputs = 2\n",
    "nOutputs = 2\n",
    "\n",
    "nQubits = nInputs+nOutputs\n",
    "\n",
    "q = QuantumRegister(nQubits, 'q')\n",
    "c = ClassicalRegister(nOutputs, 'c')\n",
    "\n",
    "sCirc = QuantumCircuit(q, c)"
   ]
  },
  {
   "cell_type": "code",
   "execution_count": 94,
   "id": "e263b44a",
   "metadata": {},
   "outputs": [],
   "source": [
    "initGates(sCirc, qreq=q, nInputs=nInputs)\n",
    "nums = [1, 0] #[X, Y]\n",
    "\n",
    "for i in range(2):\n",
    "    if nums[i] == 1: gateName = 'x'\n",
    "    else: gateName = 'id'\n",
    "\n",
    "    sCirc.data[i].operation.name = gateName"
   ]
  },
  {
   "cell_type": "markdown",
   "id": "21f95ace",
   "metadata": {},
   "source": [
    "q0: X\n",
    "\n",
    "q1: Y\n",
    "\n",
    "q2: D = X XOR Y = X ⊕ Y\n",
    "\n",
    "q3: B = not-X AND Y = X' & Y = ~X ^ Y"
   ]
  },
  {
   "cell_type": "markdown",
   "id": "65136a8a",
   "metadata": {},
   "source": [
    "# D Part\n",
    "\n",
    "D = X XOR Y = X ⊕ Y"
   ]
  },
  {
   "cell_type": "code",
   "execution_count": 95,
   "id": "904986ba",
   "metadata": {},
   "outputs": [
    {
     "data": {
      "text/plain": [
       "<qiskit.circuit.instructionset.InstructionSet at 0x2adc50855d0>"
      ]
     },
     "execution_count": 95,
     "metadata": {},
     "output_type": "execute_result"
    }
   ],
   "source": [
    "sCirc.cx(q[0], q[1])\n",
    "sCirc.cx(q[1], q[2])"
   ]
  },
  {
   "cell_type": "markdown",
   "id": "bdde26d6",
   "metadata": {},
   "source": [
    "# B Part\n",
    "\n",
    "B = not-X AND Y = X' & Y = ~X ^ Y"
   ]
  },
  {
   "cell_type": "code",
   "execution_count": 96,
   "id": "7bbc81fd",
   "metadata": {},
   "outputs": [
    {
     "data": {
      "text/plain": [
       "<qiskit.circuit.instructionset.InstructionSet at 0x2adc5087b20>"
      ]
     },
     "execution_count": 96,
     "metadata": {},
     "output_type": "execute_result"
    }
   ],
   "source": [
    "sCirc.x(q[0])\n",
    "sCirc.ccx(q[0], q[1], q[3])"
   ]
  },
  {
   "cell_type": "code",
   "execution_count": 97,
   "id": "b157719e",
   "metadata": {},
   "outputs": [
    {
     "data": {
      "text/plain": [
       "<qiskit.circuit.instructionset.InstructionSet at 0x2adc5085390>"
      ]
     },
     "execution_count": 97,
     "metadata": {},
     "output_type": "execute_result"
    }
   ],
   "source": [
    "sCirc.measure(2, 0)\n",
    "sCirc.measure(3, 1)"
   ]
  },
  {
   "cell_type": "code",
   "execution_count": 98,
   "id": "64f02039",
   "metadata": {},
   "outputs": [
    {
     "name": "stdout",
     "output_type": "stream",
     "text": [
      "{'01': 2000}\n",
      "1\n"
     ]
    }
   ],
   "source": [
    "job = execute(sCirc, backend, shots=2000)\n",
    "result = job.result()\n",
    "counts = result.get_counts()\n",
    "\n",
    "print(counts)\n",
    "\n",
    "for count in list(counts):\n",
    "    print(int(count, 2))"
   ]
  },
  {
   "cell_type": "code",
   "execution_count": 99,
   "id": "868fba8e",
   "metadata": {},
   "outputs": [
    {
     "data": {
      "image/png": "[encoded data removed]",
      "text/plain": [
       "<Figure size 621.941x451.5 with 1 Axes>"
      ]
     },
     "execution_count": 99,
     "metadata": {},
     "output_type": "execute_result"
    }
   ],
   "source": [
    "sCirc.draw(output='mpl')"
   ]
  },
  {
   "cell_type": "code",
   "execution_count": 100,
   "id": "993ea14a",
   "metadata": {},
   "outputs": [
    {
     "data": {
      "text/plain": [
       "[CircuitInstruction(operation=Instruction(name='x', num_qubits=1, num_clbits=0, params=[]), qubits=(Qubit(QuantumRegister(4, 'q'), 0),), clbits=()),\n",
       " CircuitInstruction(operation=Instruction(name='id', num_qubits=1, num_clbits=0, params=[]), qubits=(Qubit(QuantumRegister(4, 'q'), 1),), clbits=()),\n",
       " CircuitInstruction(operation=Instruction(name='cx', num_qubits=2, num_clbits=0, params=[]), qubits=(Qubit(QuantumRegister(4, 'q'), 0), Qubit(QuantumRegister(4, 'q'), 1)), clbits=()),\n",
       " CircuitInstruction(operation=Instruction(name='cx', num_qubits=2, num_clbits=0, params=[]), qubits=(Qubit(QuantumRegister(4, 'q'), 1), Qubit(QuantumRegister(4, 'q'), 2)), clbits=()),\n",
       " CircuitInstruction(operation=Instruction(name='x', num_qubits=1, num_clbits=0, params=[]), qubits=(Qubit(QuantumRegister(4, 'q'), 0),), clbits=()),\n",
       " CircuitInstruction(operation=Instruction(name='ccx', num_qubits=3, num_clbits=0, params=[]), qubits=(Qubit(QuantumRegister(4, 'q'), 0), Qubit(QuantumRegister(4, 'q'), 1), Qubit(QuantumRegister(4, 'q'), 3)), clbits=()),\n",
       " CircuitInstruction(operation=Instruction(name='measure', num_qubits=1, num_clbits=1, params=[]), qubits=(Qubit(QuantumRegister(4, 'q'), 2),), clbits=(Clbit(ClassicalRegister(2, 'c'), 0),)),\n",
       " CircuitInstruction(operation=Instruction(name='measure', num_qubits=1, num_clbits=1, params=[]), qubits=(Qubit(QuantumRegister(4, 'q'), 3),), clbits=(Clbit(ClassicalRegister(2, 'c'), 1),))]"
      ]
     },
     "execution_count": 100,
     "metadata": {},
     "output_type": "execute_result"
    }
   ],
   "source": [
    "list(sCirc.data)"
   ]
  }
 ],
 "metadata": {
  "kernelspec": {
   "display_name": "Python 3 (ipykernel)",
   "language": "python",
   "name": "python3"
  },
  "language_info": {
   "codemirror_mode": {
    "name": "ipython",
    "version": 3
   },
   "file_extension": ".py",
   "mimetype": "text/x-python",
   "name": "python",
   "nbconvert_exporter": "python",
   "pygments_lexer": "ipython3",
   "version": "3.11.4"
  }
 },
 "nbformat": 4,
 "nbformat_minor": 5
}
