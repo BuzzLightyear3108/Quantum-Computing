{
 "cells": [
  {
   "cell_type": "code",
   "execution_count": 125,
   "id": "27cab62c",
   "metadata": {},
   "outputs": [],
   "source": [
    "from qmul import *"
   ]
  },
  {
   "cell_type": "code",
   "execution_count": 126,
   "id": "ab144212",
   "metadata": {},
   "outputs": [],
   "source": [
    "x = sympy.Symbol('x')"
   ]
  },
  {
   "cell_type": "code",
   "execution_count": 127,
   "id": "5ff47be7",
   "metadata": {},
   "outputs": [
    {
     "data": {
      "text/latex": [
       "$\\displaystyle 7 x^{1.5}$"
      ],
      "text/plain": [
       "7*x**1.5"
      ]
     },
     "execution_count": 127,
     "metadata": {},
     "output_type": "execute_result"
    }
   ],
   "source": [
    "eq = (7*x**1.5)\n",
    "eq"
   ]
  },
  {
   "cell_type": "code",
   "execution_count": 128,
   "id": "61126406",
   "metadata": {},
   "outputs": [
    {
     "data": {
      "text/plain": [
       "[(7, 1), (3, 2)]"
      ]
     },
     "execution_count": 128,
     "metadata": {},
     "output_type": "execute_result"
    }
   ],
   "source": [
    "coeffExp = eq.as_coeff_exponent(x)\n",
    "coeffExpFrac = [Fraction(str(eqNum)).as_integer_ratio() for eqNum in coeffExp]\n",
    "coeffExpFrac"
   ]
  },
  {
   "cell_type": "markdown",
   "id": "c3cfdd6f",
   "metadata": {},
   "source": [
    "# Add 1 due to integration"
   ]
  },
  {
   "cell_type": "code",
   "execution_count": 129,
   "id": "5094f32d",
   "metadata": {},
   "outputs": [
    {
     "name": "stdout",
     "output_type": "stream",
     "text": [
      "2\n",
      "array([[7, 5],\n",
      "       [1, 2]])\n"
     ]
    }
   ],
   "source": [
    "# Add by a value equal to the denominator of the 2nd/Divisor Fraction (e.g. if denominator=2, then 2/2=1, so add by two)\n",
    "\n",
    "factors = np.transpose(coeffExpFrac)\n",
    "denominator = factors[1, 1]\n",
    "print(denominator)\n",
    "\n",
    "# factors[:, 1][0] is the Numerator of the 2nd Fraction\n",
    "factors[:, 1][0] += denominator\n",
    "print(repr(factors))"
   ]
  },
  {
   "cell_type": "markdown",
   "id": "f076b4e7",
   "metadata": {},
   "source": [
    "# Fraction division is a multiplication by its reciprocal of the 2nd/Divisor Fraction"
   ]
  },
  {
   "cell_type": "code",
   "execution_count": 130,
   "id": "9be2dc68",
   "metadata": {},
   "outputs": [
    {
     "name": "stdout",
     "output_type": "stream",
     "text": [
      "array([[7, 2],\n",
      "       [1, 5]])\n"
     ]
    }
   ],
   "source": [
    "factors[:, 1] = factors[:, 1][::-1]\n",
    "print(repr(factors))"
   ]
  },
  {
   "cell_type": "code",
   "execution_count": 131,
   "id": "fc0df159",
   "metadata": {},
   "outputs": [
    {
     "name": "stdout",
     "output_type": "stream",
     "text": [
      "Expression: 7*2 = 14\n",
      "Expression: 1*5 = 5\n"
     ]
    }
   ],
   "source": [
    "result = []\n",
    "\n",
    "for A, B in factors:\n",
    "    # Set the Inputs by using setInputs()\n",
    "    setInputs(A, B)\n",
    "    \n",
    "    # Execute the Circuit by using execCirc()\n",
    "    resultMul = execCirc()\n",
    "    result.append(resultMul)\n",
    "    print(f'Expression: {A}*{B} = {resultMul}')"
   ]
  },
  {
   "cell_type": "code",
   "execution_count": 132,
   "id": "ba09a1c5",
   "metadata": {},
   "outputs": [
    {
     "data": {
      "text/plain": [
       "Fraction(14, 5)"
      ]
     },
     "execution_count": 132,
     "metadata": {},
     "output_type": "execute_result"
    }
   ],
   "source": [
    "# New Coefficient for the integrated expression\n",
    "integCoef = Fraction(result[0], result[1])\n",
    "integCoef"
   ]
  },
  {
   "cell_type": "code",
   "execution_count": 133,
   "id": "d4badd72",
   "metadata": {},
   "outputs": [
    {
     "data": {
      "text/plain": [
       "4"
      ]
     },
     "execution_count": 133,
     "metadata": {},
     "output_type": "execute_result"
    }
   ],
   "source": [
    "# New Exponent for the integrated expression\n",
    "integExp = coeffExpFrac[1][0]+1\n",
    "integExp"
   ]
  },
  {
   "cell_type": "code",
   "execution_count": 134,
   "id": "1fb92202",
   "metadata": {},
   "outputs": [
    {
     "data": {
      "text/latex": [
       "$\\displaystyle \\frac{14 x^{4}}{5}$"
      ],
      "text/plain": [
       "14*x**4/5"
      ]
     },
     "execution_count": 134,
     "metadata": {},
     "output_type": "execute_result"
    }
   ],
   "source": [
    "integCoef*x**integExp"
   ]
  }
 ],
 "metadata": {
  "kernelspec": {
   "display_name": "Python 3 (ipykernel)",
   "language": "python",
   "name": "python3"
  },
  "language_info": {
   "codemirror_mode": {
    "name": "ipython",
    "version": 3
   },
   "file_extension": ".py",
   "mimetype": "text/x-python",
   "name": "python",
   "nbconvert_exporter": "python",
   "pygments_lexer": "ipython3",
   "version": "3.11.4"
  }
 },
 "nbformat": 4,
 "nbformat_minor": 5
}
