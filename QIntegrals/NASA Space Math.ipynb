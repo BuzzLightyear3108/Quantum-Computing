{
 "cells": [
  {
   "cell_type": "markdown",
   "id": "acb8950c",
   "metadata": {},
   "source": [
    "<div style=\"font-size:225%; font-weight:bold; text-align: center; margin-bottom: 20px\">NASA Space Math</div>\n",
    "<div style=\"font-size:175%; font-weight:bold; text-align: center\">Using Quantum Algorithms Simulator to solve Integrals</div>"
   ]
  },
  {
   "cell_type": "code",
   "execution_count": 1,
   "id": "09bfa2e7",
   "metadata": {},
   "outputs": [],
   "source": [
    "from qiskit import QuantumCircuit, Aer, execute, transpile, execute, IBMQ\n",
    "from qiskit_aer import AerSimulator\n",
    "\n",
    "from qiskit.tools.monitor import job_monitor\n",
    "from qiskit.circuit.library import WeightedAdder\n",
    "\n",
    "from qiskit.circuit import Instruction, CircuitInstruction, Qubit, QuantumRegister, Clbit, ClassicalRegister\n",
    "from qiskit.circuit.library.standard_gates import IGate, XGate, CXGate, CCXGate, C3XGate, C4XGate, MCXGate, \\\n",
    "                                                  RXGate, RYGate, RZGate, HGate\n",
    "from qiskit.exceptions import QiskitError\n",
    "\n",
    "import matplotlib.pyplot as plt\n",
    "%matplotlib inline\n",
    "from qiskit.visualization import plot_histogram\n",
    "\n",
    "import os\n",
    "import sys\n",
    "import math as m\n",
    "import numpy as np\n",
    "import pandas as pd\n",
    "import sympy\n",
    "\n",
    "from fractions import Fraction\n",
    "\n",
    "from _functools import *\n",
    "from traceback import format_exc\n"
   ]
  },
  {
   "cell_type": "code",
   "execution_count": 2,
   "id": "3855d514",
   "metadata": {},
   "outputs": [],
   "source": [
    "def initGates(circuit, qreq, nInputs, gateName='id'):\n",
    "    '''Determine Input Value (Either 0 or 1)\n",
    "    Initialization Gates\n",
    "    First, zero it out at the beginning.\n",
    "    All qubits start from ground state |0>. Create manipulable initialization gates as many as the input qubits.\n",
    "    The identity gate means that it remains the same state as previous, which, in this case, the ground state |0>.\n",
    "    Later, the Identity gate can be converted to an X Gate or NOT gate.'''\n",
    "\n",
    "    circuit.data = [CircuitInstruction(operation=Instruction(name=gateName, num_qubits=1, num_clbits=0, params=[]),\n",
    "                                     qubits=(Qubit(qreq, inputIndex),),\n",
    "                                     clbits=()) for inputIndex in range(nInputs)]\n"
   ]
  },
  {
   "cell_type": "code",
   "execution_count": 3,
   "id": "d1605e25",
   "metadata": {},
   "outputs": [],
   "source": [
    "def qAdd(weights, backend=AerSimulator(method='matrix_product_state')):\n",
    "    aCirc1 = WeightedAdder(num_state_qubits=len(weights), weights=weights)\n",
    "\n",
    "    nQubits = aCirc1.num_qubits\n",
    "    qubits = aCirc1.qubits\n",
    "\n",
    "    sumQubitIndices = [qubitIndex for qubitIndex in range(len(qubits)) if \"'sum'\" in str(qubits[qubitIndex])]\n",
    "    nInputs = str(qubits).count(\"'state'\")\n",
    "    nOutputs = len(sumQubitIndices)\n",
    "\n",
    "    q = QuantumRegister(nQubits, 'q')\n",
    "    c = ClassicalRegister(nOutputs, 'c')\n",
    "\n",
    "    aCirc = QuantumCircuit(q, c)\n",
    "\n",
    "    initGates(aCirc, q, nInputs, gateName='x')\n",
    "\n",
    "    aCirc.append(aCirc1, range(nQubits))\n",
    "    aCirc.measure(sumQubitIndices, range(nOutputs))\n",
    "\n",
    "    job = execute(aCirc, backend, shots=2000)\n",
    "    result = job.result()\n",
    "    counts = result.get_counts()\n",
    "    count = list(counts)[0]\n",
    "\n",
    "    return int(count, 2)"
   ]
  },
  {
   "cell_type": "code",
   "execution_count": 4,
   "id": "178914c8",
   "metadata": {},
   "outputs": [],
   "source": [
    "def qintegrals(var, RawEqParts, debugPrint=False):\n",
    "    Eqn_Integrated = []\n",
    "    if debugPrint: factorsSet = []\n",
    "    \n",
    "    for RawEqPart in RawEqParts:\n",
    "        coeffExp = RawEqPart.as_coeff_exponent(var)\n",
    "        \n",
    "        if debugPrint: print(coeffExp)\n",
    "        \n",
    "        coeffExpFrac = [Fraction(str(eqNum)).limit_denominator().as_integer_ratio() for eqNum in coeffExp]\n",
    "\n",
    "        # # Add 1 due to integration\n",
    "        # Add by a value equal to the denominator of the 2nd/Divisor Fraction (e.g. if denominator=2, then 2/2=1, so add by two)\n",
    "\n",
    "        factors = np.transpose(coeffExpFrac)\n",
    "        denominator = factors[1, 1]\n",
    "\n",
    "        # factors[:, 1][0] is the Numerator of the 2nd Fraction\n",
    "        factors[:, 1][0] += denominator\n",
    "\n",
    "        # # Fraction division is a multiplication by its reciprocal of the 2nd/Divisor Fraction\n",
    "        factors[:, 1] = factors[:, 1][::-1]\n",
    "        result = []\n",
    "\n",
    "        if debugPrint: factorsSet.append(factors)\n",
    "\n",
    "        for A, B in factors:\n",
    "            # Using Repeated Addition through WeightedAdder\n",
    "            resultMul = qAdd([A]*B)\n",
    "            result.append(resultMul)\n",
    "\n",
    "        # New Coefficient for the integrated expression\n",
    "        integCoef = Fraction(result[0], result[1])\n",
    "\n",
    "        # New Exponent for the integrated expression\n",
    "        # Add by a value equal to the denominator of the 2nd/Divisor Fraction (e.g. if denominator=2, then 2/2=1, so add by two)\n",
    "        integExp = coeffExpFrac[1][0]+denominator\n",
    "        integExp /= denominator\n",
    "\n",
    "        Eqn_Integrated.append(integCoef*var**integExp)\n",
    "        \n",
    "        if debugPrint: print(factorsSet)\n",
    "        \n",
    "    return Eqn_Integrated\n"
   ]
  },
  {
   "cell_type": "markdown",
   "id": "1766688d",
   "metadata": {},
   "source": [
    "Calculations for: NASA Space Math 10Page120.pdf - Problem 2\n",
    "    \n",
    "PDF Document: https://spacemath.gsfc.nasa.gov/Calculus/10Page120.pdf"
   ]
  },
  {
   "cell_type": "code",
   "execution_count": 5,
   "id": "ef692352",
   "metadata": {},
   "outputs": [
    {
     "name": "stdout",
     "output_type": "stream",
     "text": [
      "[49*T**1.0, 21*T**2.0, 3*T**3.0]\n"
     ]
    }
   ],
   "source": [
    "T = sympy.Symbol('T')\n",
    "RawEqParts = [sympy.Mul(49), 42*T, 9*T**2]\n",
    "\n",
    "Eqn_Integrated = qintegrals(T, RawEqParts)\n",
    "\n",
    "print(Eqn_Integrated)"
   ]
  },
  {
   "cell_type": "markdown",
   "id": "136dd0c8",
   "metadata": {},
   "source": [
    "Calculations for: NASA Space Math 7Page48.pdf - Problem 1B\n",
    "\n",
    "PDF Document: https://spacemath.gsfc.nasa.gov/Calculus/7Page48.pdf"
   ]
  },
  {
   "cell_type": "code",
   "execution_count": 6,
   "id": "b75d21f2",
   "metadata": {},
   "outputs": [
    {
     "name": "stdout",
     "output_type": "stream",
     "text": [
      "[149*T**9.0/900, 123*T**8.0/80, 2097*T**7.0/350, 38*T**6.0/3, 1551*T**5.0/100, 1057*T**4.0/100, 473*T**3.0/150, 9*T**2.0/100, 9*T**1.0/10000]\n"
     ]
    }
   ],
   "source": [
    "T = sympy.Symbol('T')\n",
    "RawEqParts = [float(coef)*T**exp for coef, exp in zip('1.49 12.30 41.94 76.00 77.55 42.28 9.46 0.18 0.0009'.split(), range(8, -1, -1))]\n",
    "\n",
    "Eqn_Integrated = qintegrals(T, RawEqParts)\n",
    "\n",
    "print(Eqn_Integrated)"
   ]
  },
  {
   "cell_type": "markdown",
   "id": "7a41fefb",
   "metadata": {},
   "source": [
    "Calculations for: NASA Space Math 10Page113.pdf - Problem 2\n",
    "\n",
    "PDF Document: https://spacemath.gsfc.nasa.gov/Calculus/10Page113.pdf"
   ]
  },
  {
   "cell_type": "code",
   "execution_count": 7,
   "id": "73c51e90",
   "metadata": {},
   "outputs": [
    {
     "name": "stdout",
     "output_type": "stream",
     "text": [
      "[m**0.1/4]\n"
     ]
    }
   ],
   "source": [
    "m = sympy.Symbol('m')\n",
    "RawEqParts = [0.025*m**-0.9]\n",
    "\n",
    "Eqn_Integrated = qintegrals(m, RawEqParts)\n",
    "\n",
    "print(Eqn_Integrated)"
   ]
  }
 ],
 "metadata": {
  "kernelspec": {
   "display_name": "Python 3 (ipykernel)",
   "language": "python",
   "name": "python3"
  },
  "language_info": {
   "codemirror_mode": {
    "name": "ipython",
    "version": 3
   },
   "file_extension": ".py",
   "mimetype": "text/x-python",
   "name": "python",
   "nbconvert_exporter": "python",
   "pygments_lexer": "ipython3",
   "version": "3.11.4"
  }
 },
 "nbformat": 4,
 "nbformat_minor": 5
}
