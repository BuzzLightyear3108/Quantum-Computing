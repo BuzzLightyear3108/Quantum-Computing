{
 "cells": [
  {
   "cell_type": "code",
   "execution_count": 420,
   "id": "c5c6b03d",
   "metadata": {},
   "outputs": [],
   "source": [
    "from qiskit import QuantumCircuit, Aer, execute, transpile, execute, IBMQ\n",
    "from qiskit_aer import AerSimulator\n",
    "\n",
    "from qiskit.tools.monitor import job_monitor\n",
    "from qiskit.circuit.library import RGQFTMultiplier\n",
    "\n",
    "from qiskit.circuit import Instruction, CircuitInstruction, Qubit, QuantumRegister, Clbit, ClassicalRegister\n",
    "from qiskit.circuit.library.standard_gates import IGate, XGate, CXGate, CCXGate, C3XGate, C4XGate, MCXGate\n",
    "from qiskit.exceptions import QiskitError\n",
    "\n",
    "import matplotlib.pyplot as plt\n",
    "%matplotlib inline\n",
    "from qiskit.visualization import plot_histogram\n",
    "\n",
    "import os\n",
    "import sys\n",
    "import math as m\n",
    "import numpy as np\n",
    "import pandas as pd\n",
    "import sympy\n",
    "\n",
    "from _functools import *\n",
    "from traceback import format_exc"
   ]
  },
  {
   "cell_type": "code",
   "execution_count": 421,
   "id": "6e827cce",
   "metadata": {},
   "outputs": [],
   "source": [
    "backend = AerSimulator(method='matrix_product_state')"
   ]
  },
  {
   "cell_type": "code",
   "execution_count": 422,
   "id": "8055504d",
   "metadata": {},
   "outputs": [],
   "source": [
    "inputDigits = 3"
   ]
  },
  {
   "cell_type": "code",
   "execution_count": 423,
   "id": "ab0ae6fb",
   "metadata": {},
   "outputs": [],
   "source": [
    "nInputs = inputDigits + inputDigits\n",
    "nOutput = 2*inputDigits\n",
    "\n",
    "nQubits = nInputs+nOutput\n",
    "\n",
    "q = QuantumRegister(nQubits,'q')\n",
    "c = ClassicalRegister(nOutput,'c')\n",
    "\n",
    "mCirc = QuantumCircuit(q, c)"
   ]
  },
  {
   "cell_type": "code",
   "execution_count": 424,
   "id": "4d70a86c",
   "metadata": {},
   "outputs": [],
   "source": [
    "mCirc.data = [CircuitInstruction(operation=Instruction(name='id', num_qubits=1, num_clbits=0, params=[]),\n",
    "                                 qubits=(Qubit(q, inputIndex),),\n",
    "                                 clbits=()) for inputIndex in range(nInputs)]"
   ]
  },
  {
   "cell_type": "code",
   "execution_count": 425,
   "id": "5d7e23ef",
   "metadata": {
    "scrolled": true
   },
   "outputs": [
    {
     "data": {
      "text/plain": [
       "[CircuitInstruction(operation=Instruction(name='id', num_qubits=1, num_clbits=0, params=[]), qubits=(Qubit(QuantumRegister(12, 'q'), 0),), clbits=()),\n",
       " CircuitInstruction(operation=Instruction(name='id', num_qubits=1, num_clbits=0, params=[]), qubits=(Qubit(QuantumRegister(12, 'q'), 1),), clbits=()),\n",
       " CircuitInstruction(operation=Instruction(name='id', num_qubits=1, num_clbits=0, params=[]), qubits=(Qubit(QuantumRegister(12, 'q'), 2),), clbits=()),\n",
       " CircuitInstruction(operation=Instruction(name='id', num_qubits=1, num_clbits=0, params=[]), qubits=(Qubit(QuantumRegister(12, 'q'), 3),), clbits=()),\n",
       " CircuitInstruction(operation=Instruction(name='id', num_qubits=1, num_clbits=0, params=[]), qubits=(Qubit(QuantumRegister(12, 'q'), 4),), clbits=()),\n",
       " CircuitInstruction(operation=Instruction(name='id', num_qubits=1, num_clbits=0, params=[]), qubits=(Qubit(QuantumRegister(12, 'q'), 5),), clbits=())]"
      ]
     },
     "execution_count": 425,
     "metadata": {},
     "output_type": "execute_result"
    }
   ],
   "source": [
    "list(mCirc.data)"
   ]
  },
  {
   "cell_type": "code",
   "execution_count": 426,
   "id": "654a2284",
   "metadata": {},
   "outputs": [
    {
     "name": "stdout",
     "output_type": "stream",
     "text": [
      "2 1 x\n",
      "1 1 x\n",
      "0 1 x\n",
      "5 1 x\n",
      "4 1 x\n",
      "3 0 id\n"
     ]
    }
   ],
   "source": [
    "operation = 1\n",
    "\n",
    "A, B = 7, 6\n",
    "\n",
    "ABin, BBin = bin(A)[2:], bin(B)[2:]\n",
    "\n",
    "# Operand A\n",
    "for ADigit, AIndex in zip(ABin, range(len(ABin))[::-1]):\n",
    "    ABinInput = int(ADigit)\n",
    "    gateName = ['id', 'x'][ABinInput]\n",
    "    \n",
    "    mCirc.data[AIndex + nInputs*(operation-1)].operation.name = gateName\n",
    "    \n",
    "    print(AIndex, ADigit, gateName)\n",
    "\n",
    "# Operand B\n",
    "for BDigit, BIndex in zip(BBin, range(len(BBin))[::-1]):\n",
    "    BBinInput = int(BDigit)\n",
    "    gateName = ['id', 'x'][BBinInput]\n",
    "    \n",
    "    mCirc.data[BIndex+inputDigits + nInputs*(operation-1)].operation.name = gateName\n",
    "    \n",
    "    print(BIndex+inputDigits, BDigit, gateName)"
   ]
  },
  {
   "cell_type": "code",
   "execution_count": 427,
   "id": "a700de6b",
   "metadata": {},
   "outputs": [],
   "source": [
    "mCirc1 = RGQFTMultiplier(num_state_qubits=inputDigits,\n",
    "                         num_result_qubits=inputDigits*2)\n",
    "\n",
    "mCirc = mCirc.compose(mCirc1)"
   ]
  },
  {
   "cell_type": "code",
   "execution_count": 428,
   "id": "c6449caf",
   "metadata": {},
   "outputs": [],
   "source": [
    "mCirc.data += [CircuitInstruction(operation=Instruction(name='id', num_qubits=1, num_clbits=0, params=[]),\n",
    "                                 qubits=(Qubit(q, inputIndex),),\n",
    "                                 clbits=()) for inputIndex in range(nInputs)]"
   ]
  },
  {
   "cell_type": "code",
   "execution_count": 429,
   "id": "73da9db6",
   "metadata": {
    "scrolled": true
   },
   "outputs": [
    {
     "data": {
      "text/plain": [
       "[CircuitInstruction(operation=Instruction(name='x', num_qubits=1, num_clbits=0, params=[]), qubits=(Qubit(QuantumRegister(12, 'q'), 0),), clbits=()),\n",
       " CircuitInstruction(operation=Instruction(name='x', num_qubits=1, num_clbits=0, params=[]), qubits=(Qubit(QuantumRegister(12, 'q'), 1),), clbits=()),\n",
       " CircuitInstruction(operation=Instruction(name='x', num_qubits=1, num_clbits=0, params=[]), qubits=(Qubit(QuantumRegister(12, 'q'), 2),), clbits=()),\n",
       " CircuitInstruction(operation=Instruction(name='id', num_qubits=1, num_clbits=0, params=[]), qubits=(Qubit(QuantumRegister(12, 'q'), 3),), clbits=()),\n",
       " CircuitInstruction(operation=Instruction(name='x', num_qubits=1, num_clbits=0, params=[]), qubits=(Qubit(QuantumRegister(12, 'q'), 4),), clbits=()),\n",
       " CircuitInstruction(operation=Instruction(name='x', num_qubits=1, num_clbits=0, params=[]), qubits=(Qubit(QuantumRegister(12, 'q'), 5),), clbits=()),\n",
       " CircuitInstruction(operation=Instruction(name='RGQFTMultiplier', num_qubits=12, num_clbits=0, params=[]), qubits=(Qubit(QuantumRegister(12, 'q'), 0), Qubit(QuantumRegister(12, 'q'), 1), Qubit(QuantumRegister(12, 'q'), 2), Qubit(QuantumRegister(12, 'q'), 3), Qubit(QuantumRegister(12, 'q'), 4), Qubit(QuantumRegister(12, 'q'), 5), Qubit(QuantumRegister(12, 'q'), 6), Qubit(QuantumRegister(12, 'q'), 7), Qubit(QuantumRegister(12, 'q'), 8), Qubit(QuantumRegister(12, 'q'), 9), Qubit(QuantumRegister(12, 'q'), 10), Qubit(QuantumRegister(12, 'q'), 11)), clbits=()),\n",
       " CircuitInstruction(operation=Instruction(name='id', num_qubits=1, num_clbits=0, params=[]), qubits=(Qubit(QuantumRegister(12, 'q'), 0),), clbits=()),\n",
       " CircuitInstruction(operation=Instruction(name='id', num_qubits=1, num_clbits=0, params=[]), qubits=(Qubit(QuantumRegister(12, 'q'), 1),), clbits=()),\n",
       " CircuitInstruction(operation=Instruction(name='id', num_qubits=1, num_clbits=0, params=[]), qubits=(Qubit(QuantumRegister(12, 'q'), 2),), clbits=()),\n",
       " CircuitInstruction(operation=Instruction(name='id', num_qubits=1, num_clbits=0, params=[]), qubits=(Qubit(QuantumRegister(12, 'q'), 3),), clbits=()),\n",
       " CircuitInstruction(operation=Instruction(name='id', num_qubits=1, num_clbits=0, params=[]), qubits=(Qubit(QuantumRegister(12, 'q'), 4),), clbits=()),\n",
       " CircuitInstruction(operation=Instruction(name='id', num_qubits=1, num_clbits=0, params=[]), qubits=(Qubit(QuantumRegister(12, 'q'), 5),), clbits=())]"
      ]
     },
     "execution_count": 429,
     "metadata": {},
     "output_type": "execute_result"
    }
   ],
   "source": [
    "list(mCirc.data)"
   ]
  },
  {
   "cell_type": "code",
   "execution_count": 430,
   "id": "3bdd9b42",
   "metadata": {},
   "outputs": [
    {
     "name": "stdout",
     "output_type": "stream",
     "text": [
      "9 1 id\n",
      "8 0 x\n",
      "7 0 x\n",
      "12 1 id\n",
      "11 0 x\n",
      "10 1 x\n"
     ]
    }
   ],
   "source": [
    "operation = 2\n",
    "\n",
    "C, D = 4, 5\n",
    "\n",
    "CDin, DDin = bin(C)[2:], bin(D)[2:]\n",
    "\n",
    "# Operand C\n",
    "for ADigit, CDigit, CIndex in zip(ABin, CDin, range(len(CDin))[::-1]):\n",
    "    ABinInput = int(ADigit)\n",
    "    CDinInput = int(CDigit)\n",
    "    gateName = ['id', 'x'][ABinInput^CDinInput]\n",
    "    \n",
    "    mCirc.data[CIndex+1 + nInputs*(operation-1)].operation.name = gateName\n",
    "    \n",
    "    print(CIndex+1 + nInputs*(operation-1), CDigit, gateName)\n",
    "\n",
    "# Operand D\n",
    "for BDigit, DDigit, DIndex in zip(BBin, DDin, range(len(DDin))[::-1]):\n",
    "    DDinInput = int(DDigit)\n",
    "    BBinInput = int(BDigit)\n",
    "    gateName = ['id', 'x'][BBinInput^DDinInput]\n",
    "    \n",
    "    mCirc.data[DIndex+1+inputDigits + nInputs*(operation-1)].operation.name = gateName\n",
    "    \n",
    "    print(DIndex+1+inputDigits + nInputs*(operation-1), DDigit, gateName)"
   ]
  },
  {
   "cell_type": "code",
   "execution_count": 431,
   "id": "1cea0e43",
   "metadata": {},
   "outputs": [
    {
     "data": {
      "text/plain": [
       "[CircuitInstruction(operation=Instruction(name='x', num_qubits=1, num_clbits=0, params=[]), qubits=(Qubit(QuantumRegister(12, 'q'), 0),), clbits=()),\n",
       " CircuitInstruction(operation=Instruction(name='x', num_qubits=1, num_clbits=0, params=[]), qubits=(Qubit(QuantumRegister(12, 'q'), 1),), clbits=()),\n",
       " CircuitInstruction(operation=Instruction(name='x', num_qubits=1, num_clbits=0, params=[]), qubits=(Qubit(QuantumRegister(12, 'q'), 2),), clbits=()),\n",
       " CircuitInstruction(operation=Instruction(name='id', num_qubits=1, num_clbits=0, params=[]), qubits=(Qubit(QuantumRegister(12, 'q'), 3),), clbits=()),\n",
       " CircuitInstruction(operation=Instruction(name='x', num_qubits=1, num_clbits=0, params=[]), qubits=(Qubit(QuantumRegister(12, 'q'), 4),), clbits=()),\n",
       " CircuitInstruction(operation=Instruction(name='x', num_qubits=1, num_clbits=0, params=[]), qubits=(Qubit(QuantumRegister(12, 'q'), 5),), clbits=()),\n",
       " CircuitInstruction(operation=Instruction(name='RGQFTMultiplier', num_qubits=12, num_clbits=0, params=[]), qubits=(Qubit(QuantumRegister(12, 'q'), 0), Qubit(QuantumRegister(12, 'q'), 1), Qubit(QuantumRegister(12, 'q'), 2), Qubit(QuantumRegister(12, 'q'), 3), Qubit(QuantumRegister(12, 'q'), 4), Qubit(QuantumRegister(12, 'q'), 5), Qubit(QuantumRegister(12, 'q'), 6), Qubit(QuantumRegister(12, 'q'), 7), Qubit(QuantumRegister(12, 'q'), 8), Qubit(QuantumRegister(12, 'q'), 9), Qubit(QuantumRegister(12, 'q'), 10), Qubit(QuantumRegister(12, 'q'), 11)), clbits=()),\n",
       " CircuitInstruction(operation=Instruction(name='x', num_qubits=1, num_clbits=0, params=[]), qubits=(Qubit(QuantumRegister(12, 'q'), 0),), clbits=()),\n",
       " CircuitInstruction(operation=Instruction(name='x', num_qubits=1, num_clbits=0, params=[]), qubits=(Qubit(QuantumRegister(12, 'q'), 1),), clbits=()),\n",
       " CircuitInstruction(operation=Instruction(name='id', num_qubits=1, num_clbits=0, params=[]), qubits=(Qubit(QuantumRegister(12, 'q'), 2),), clbits=()),\n",
       " CircuitInstruction(operation=Instruction(name='x', num_qubits=1, num_clbits=0, params=[]), qubits=(Qubit(QuantumRegister(12, 'q'), 3),), clbits=()),\n",
       " CircuitInstruction(operation=Instruction(name='x', num_qubits=1, num_clbits=0, params=[]), qubits=(Qubit(QuantumRegister(12, 'q'), 4),), clbits=()),\n",
       " CircuitInstruction(operation=Instruction(name='id', num_qubits=1, num_clbits=0, params=[]), qubits=(Qubit(QuantumRegister(12, 'q'), 5),), clbits=())]"
      ]
     },
     "execution_count": 431,
     "metadata": {},
     "output_type": "execute_result"
    }
   ],
   "source": [
    "list(mCirc.data)"
   ]
  },
  {
   "cell_type": "code",
   "execution_count": 432,
   "id": "88a8b1d0",
   "metadata": {},
   "outputs": [],
   "source": [
    "mCirc2 = RGQFTMultiplier(num_state_qubits=inputDigits,\n",
    "                         num_result_qubits=inputDigits*2)\n",
    "\n",
    "mCirc = mCirc.compose(mCirc2)"
   ]
  },
  {
   "cell_type": "code",
   "execution_count": 433,
   "id": "7a79630a",
   "metadata": {},
   "outputs": [
    {
     "data": {
      "text/plain": [
       "<qiskit.circuit.instructionset.InstructionSet at 0x200f5f921d0>"
      ]
     },
     "execution_count": 433,
     "metadata": {},
     "output_type": "execute_result"
    }
   ],
   "source": [
    "rangeLimit = 2**inputDigits\n",
    "\n",
    "# Qubit Range\n",
    "QRange = range(nInputs, nQubits)\n",
    "\n",
    "# Classical Bit Range\n",
    "CRange = range(0, nOutput)\n",
    "\n",
    "mCirc.measure(QRange, CRange)"
   ]
  },
  {
   "cell_type": "code",
   "execution_count": 434,
   "id": "04090cb7",
   "metadata": {},
   "outputs": [
    {
     "name": "stdout",
     "output_type": "stream",
     "text": [
      "7*6\n",
      "---\n",
      "{'111110': 2000}\n",
      "62\n"
     ]
    }
   ],
   "source": [
    "job = execute(mCirc, backend, shots=2000)\n",
    "result = job.result()\n",
    "counts = result.get_counts()\n",
    "print(f'{A}*{B}')\n",
    "print('---')\n",
    "print(counts)\n",
    "print(int(list(counts)[0], 2))"
   ]
  },
  {
   "cell_type": "code",
   "execution_count": 435,
   "id": "b33f5244",
   "metadata": {},
   "outputs": [
    {
     "data": {
      "image/png": "[encoded data removed]",
      "text/plain": [
       "<Figure size 1308.86x1120.39 with 1 Axes>"
      ]
     },
     "execution_count": 435,
     "metadata": {},
     "output_type": "execute_result"
    }
   ],
   "source": [
    "mCirc.draw(output='mpl')"
   ]
  },
  {
   "cell_type": "code",
   "execution_count": null,
   "id": "6b6a89ff",
   "metadata": {},
   "outputs": [],
   "source": []
  }
 ],
 "metadata": {
  "kernelspec": {
   "display_name": "Python 3 (ipykernel)",
   "language": "python",
   "name": "python3"
  },
  "language_info": {
   "codemirror_mode": {
    "name": "ipython",
    "version": 3
   },
   "file_extension": ".py",
   "mimetype": "text/x-python",
   "name": "python",
   "nbconvert_exporter": "python",
   "pygments_lexer": "ipython3",
   "version": "3.11.4"
  }
 },
 "nbformat": 4,
 "nbformat_minor": 5
}
